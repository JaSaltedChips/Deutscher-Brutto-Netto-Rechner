{
 "cells": [
  {
   "cell_type": "markdown",
   "id": "a4644926",
   "metadata": {},
   "source": [
    "# Tax Calculator for Tax Class 1"
   ]
  },
  {
   "cell_type": "code",
   "execution_count": 1,
   "id": "3c082af7",
   "metadata": {},
   "outputs": [],
   "source": [
    "from helper import output\n",
    "from helper import export_markdown_payslip_textblock\n",
    "from social_contribution_calculator import calculate_social_contribution\n",
    "from income_tax_calculator import calculate_income_tax"
   ]
  },
  {
   "cell_type": "code",
   "execution_count": 2,
   "id": "a3404494",
   "metadata": {},
   "outputs": [],
   "source": [
    "def calculate():\n",
    "    try:\n",
    "        raw_input = input(\"Enter your monthly gross salary in EUR: \").replace(',', '.')\n",
    "        monthly_salary = float(raw_input)\n",
    "\n",
    "        # Calculate social contributions\n",
    "        contributions = calculate_social_contribution(monthly_salary)\n",
    "        monthly_social_total = sum(c.employee for c in contributions.values())\n",
    "\n",
    "        # Calculate income tax\n",
    "        monthly_tax = calculate_income_tax(monthly_salary, monthly_social_total)\n",
    "\n",
    "        # Output summary\n",
    "        output(monthly_salary, monthly_tax, contributions)\n",
    "     \n",
    "    except ValueError:\n",
    "        print(\"Invalid input. Please enter a valid numeric salary.\")"
   ]
  },
  {
   "cell_type": "code",
   "execution_count": 3,
   "id": "b7be071f",
   "metadata": {},
   "outputs": [
    {
     "name": "stdout",
     "output_type": "stream",
     "text": [
      "\n",
      "\n",
      "==========================================================\n",
      "Ergebnis                             Monat         Jahr\n",
      "----------------------------------------------------------\n",
      "Brutto:                           5,000.00 €   60,000.00 €\n",
      "Geldwerter Vorteil:                   0.00 €        0.00 €\n",
      "\n",
      "Steuern                       \n",
      "----------------------------------------------------------\n",
      "Solidaritätszuschlag:                 0.00 €        0.00 €\n",
      "Kirchensteuer:                        0.00 €        0.00 €\n",
      "Lohnsteuer:                         832.74 €    9,992.88 €\n",
      "----------------------------------------------------------\n",
      "Steuern:                            832.74 €    9,992.88 €\n",
      "----------------------------------------------------------\n",
      "\n",
      "Sozialabgaben                 \n",
      "----------------------------------------------------------\n",
      "Rentenversicherung:                 465.00 €    5,580.00 €\n",
      "Arbeitslosenversicherung:            65.00 €      780.00 €\n",
      "Krankenversicherung:                395.00 €    4,740.00 €\n",
      "Pflegeversicherung:                 115.00 €    1,380.00 €\n",
      "----------------------------------------------------------\n",
      "Sozialabgaben:                    1,040.00 €   12,480.00 €\n",
      "----------------------------------------------------------\n",
      "\n",
      "Netto:                            3,127.26 €   37,527.12 €\n",
      "==========================================================\n"
     ]
    }
   ],
   "source": [
    "calculate()"
   ]
  },
  {
   "cell_type": "code",
   "execution_count": null,
   "id": "40b9436e",
   "metadata": {},
   "outputs": [],
   "source": []
  }
 ],
 "metadata": {
  "kernelspec": {
   "display_name": ".venv",
   "language": "python",
   "name": "python3"
  },
  "language_info": {
   "codemirror_mode": {
    "name": "ipython",
    "version": 3
   },
   "file_extension": ".py",
   "mimetype": "text/x-python",
   "name": "python",
   "nbconvert_exporter": "python",
   "pygments_lexer": "ipython3",
   "version": "3.13.2"
  }
 },
 "nbformat": 4,
 "nbformat_minor": 5
}
